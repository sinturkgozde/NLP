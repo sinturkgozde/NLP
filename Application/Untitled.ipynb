{
 "cells": [
  {
   "cell_type": "code",
   "execution_count": 124,
   "metadata": {
    "collapsed": false
   },
   "outputs": [
    {
     "name": "stdout",
     "output_type": "stream",
     "text": [
      "[u'ENTY' u'ENTY' u'ENTY' u'ENTY' u'ENTY' u'ENTY' u'ENTY' u'ENTY' u'ENTY'\n",
      " u'ENTY' u'ENTY' u'ENTY' u'ENTY' u'ENTY' u'ENTY' u'ENTY' u'ENTY']\n"
     ]
    }
   ],
   "source": [
    "import os,sys\n",
    "\n",
    "from sklearn.naive_bayes import GaussianNB\n",
    "from sklearn.naive_bayes import MultinomialNB\n",
    "from sklearn.feature_extraction.text import TfidfTransformer\n",
    "from sklearn.feature_extraction.text import CountVectorizer\n",
    "import numpy as np\n",
    "\n",
    "\n",
    "\n",
    "count_vectorizer = CountVectorizer()\n",
    "\n",
    "\n",
    "\n",
    "data = open(\"train_5500.label\").read().decode('iso-8859-9').encode('utf-8',',ignore')\n",
    "\n",
    "data_fixed =  str(data)\n",
    "\n",
    "senteces_data = data_fixed.split(\"\\n\")\n",
    "\n",
    "sentences_data_fixed = map(lambda x:str(x),senteces_data)\n",
    "\n",
    "sentences = map(lambda x:x[x.index(\" \"):][1:],sentences_data_fixed[0:len(sentences_data_fixed)-10])\n",
    "\n",
    "\n",
    "meaning = map(lambda x:x[x.index(\":\"):x.index(\" \")][1:],sentences_data[0:len(sentences_data)-10])\n",
    "\n",
    "\n",
    "result_vector = map(lambda x:x[:x.index(\":\")],sentences_data[0:len(sentences_data)-10])\n",
    "\n",
    "\n",
    "counts = count_vectorizer.fit_transform(meaning)\n",
    "\n",
    "\n",
    "classifier = MultinomialNB()\n",
    "target = result_vector\n",
    "\n",
    "classifier.fit(counts,target)\n",
    "\n",
    "test_sentence = \"What is a caldera\"\n",
    "\n",
    "vectorized_test = count_vectorizer.transform(test_sentence)\n",
    "\n",
    "print classifier.predict(vectorized_test)\n"
   ]
  },
  {
   "cell_type": "code",
   "execution_count": 125,
   "metadata": {
    "collapsed": false
   },
   "outputs": [
    {
     "name": "stdout",
     "output_type": "stream",
     "text": [
      "[u'ENTY' u'ENTY' u'ENTY' u'ENTY' u'ENTY' u'ENTY' u'ENTY' u'ENTY' u'ENTY'\n",
      " u'ENTY' u'ENTY' u'ENTY' u'ENTY' u'ENTY' u'ENTY' u'ENTY' u'ENTY' u'ENTY'\n",
      " u'ENTY' u'ENTY']\n"
     ]
    }
   ],
   "source": [
    "\n",
    "\n",
    "tfidf_transformer = TfidfTransformer()\n",
    "\n",
    "clf = MultinomialNB().fit(X_train_tf,target)\n",
    "\n",
    "sentence = \"who is gozde senturk\"\n",
    "\n",
    "x_new_count = count_vectorizer.transform(sentence)\n",
    "\n",
    "X_train_tfidf = tfidf_transformer.fit_transform(x_new_count)\n",
    "print clf.predict(X_train_tfidf)"
   ]
  },
  {
   "cell_type": "code",
   "execution_count": null,
   "metadata": {
    "collapsed": true
   },
   "outputs": [],
   "source": []
  }
 ],
 "metadata": {
  "kernelspec": {
   "display_name": "Python 2",
   "language": "python",
   "name": "python2"
  },
  "language_info": {
   "codemirror_mode": {
    "name": "ipython",
    "version": 2
   },
   "file_extension": ".py",
   "mimetype": "text/x-python",
   "name": "python",
   "nbconvert_exporter": "python",
   "pygments_lexer": "ipython2",
   "version": "2.7.10"
  }
 },
 "nbformat": 4,
 "nbformat_minor": 0
}
