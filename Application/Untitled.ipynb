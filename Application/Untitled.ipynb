{
 "cells": [
  {
   "cell_type": "code",
   "execution_count": 5,
   "metadata": {
    "collapsed": false
   },
   "outputs": [],
   "source": [
    "import os,sys\n",
    "\n",
    "from sklearn.naive_bayes import GaussianNB\n",
    "from sklearn.naive_bayes import MultinomialNB\n",
    "from sklearn.feature_extraction.text import TfidfTransformer\n",
    "from sklearn.feature_extraction.text import CountVectorizer\n",
    "import numpy as np\n",
    "import nltk\n",
    "\n",
    "\n",
    "\n",
    "count_vectorizer = CountVectorizer()\n",
    "\n",
    "\n",
    "\n",
    "data = open(\"train_5500.label\").read().decode('iso-8859-9').encode('utf-8',',ignore')\n",
    "\n",
    "\n",
    "\n",
    "data_fixed =  str(data)\n",
    "\n",
    "\n",
    "sentences_data = data_fixed.split(\"\\n\")\n",
    "\n",
    "\n",
    "sentences_data_fixed = map(lambda x:str(x),senteces_data)\n",
    "\n",
    "sentences = map(lambda x:x[x.index(\" \"):][1:],sentences_data_fixed[0:len(sentences_data_fixed)-10])\n",
    "\n",
    "\n",
    "meaning = map(lambda x:x[x.index(\":\"):x.index(\" \")][1:],sentences_data[0:len(sentences_data)-10])\n",
    "\n",
    "\n",
    "\n",
    "result_vector = map(lambda x:x[:x.index(\":\")],sentences_data[0:len(sentences_data)-10])\n",
    "\n",
    "\n",
    "counts = count_vectorizer.fit_transform(sentences)\n",
    "\n",
    "\n",
    "classifier = MultinomialNB()\n",
    "target = result_vector\n",
    "\n",
    "classifier.fit(counts,target)\n",
    "\n",
    "test_sentence = [\"Which is deeper, the Baltic Sea or the North Sea?\"]\n",
    "\n",
    "vectorized_test = count_vectorizer.transform(test_sentence)\n",
    "\n",
    "#print classifier.predict(vectorized_test)\n"
   ]
  },
  {
   "cell_type": "code",
   "execution_count": 40,
   "metadata": {
    "collapsed": false
   },
   "outputs": [
    {
     "name": "stdout",
     "output_type": "stream",
     "text": [
      "kill\n"
     ]
    }
   ],
   "source": [
    "from nltk.corpus import wordnet as wn\n",
    "from nltk.stem.porter import *\n",
    "\n",
    "\n",
    "        \n",
    "        \n",
    "strl = \"\"\"Mohandas Karamchand Gandhi was the preeminent leader of the Indian independence movement in British-ruled India. Born and raised in a Hindu merchant caste family in coastal Gujarat, western India, and trained in law at the Inner Temple. After his return to India in 1915, he set about organising peasants, farmers, and urban labourers to protest against excessive land-tax and discrimination. Some Indians thought Gandhi was too accommodating.[11][12] Nathuram Godse, a Hindu nationalist, assassinated Gandhi on 30 January 1948 by firing three bullets into his chest at point-blank range\"\"\"\n",
    "\n",
    "question2 = \"Who killed Gandhi?\"\n",
    "\n",
    "\n",
    "\n",
    "\n",
    "stemmer = PorterStemmer()\n",
    "\n",
    "stems = [str(stemmer.stem(element)) for element in nltk.word_tokenize(question2)]\n",
    "\n",
    "\n",
    "\n",
    "question_tokenized = nltk.word_tokenize(' '.join(stems))\n",
    "\n",
    "\n",
    "posed_data = nltk.pos_tag(question_tokenized)\n",
    "\n",
    "VERBS = [element for element in posed_data if element[1] == 'VBP']\n",
    "\n",
    "similarity_research_word =  VERBS[0][0]\n",
    "\n",
    "print similarity_research_word\n",
    "\n",
    "\n"
   ]
  },
  {
   "cell_type": "code",
   "execution_count": 71,
   "metadata": {
    "collapsed": false
   },
   "outputs": [
    {
     "name": "stdout",
     "output_type": "stream",
     "text": [
      "[u'play', u'drama', u'dramatic_play', u'maneuver', u'manoeuvre', u'bid', u\"child's_play\", u'playing_period', u'period_of_play', u'free_rein', u'shimmer', u'fun', u'sport', u'looseness', u'frolic', u'romp', u'gambol', u'caper', u'turn', u'gambling', u'gaming', u'swordplay', u'act', u'represent', u'spiel', u'act_as', u'recreate', u'toy', u'run', u'fiddle', u'diddle', u'dally', u'trifle', u'flirt', u'roleplay', u'playact', u'bring', u'work', u'wreak', u'make_for', u'bet', u'wager', u'meet', u'encounter', u'take_on']\n"
     ]
    }
   ],
   "source": [
    "synonyms = wn.synsets('play')\n",
    "\n",
    "my_plan_synset = wn.synset('play.n.01')\n",
    "\n",
    "result= []\n",
    "for element in synonyms:\n",
    "    \n",
    "    for melement in element.lemma_names():\n",
    "        if melement not in result:\n",
    "            result.append(melement)\n",
    "            \n",
    "print result\n"
   ]
  },
  {
   "cell_type": "code",
   "execution_count": null,
   "metadata": {
    "collapsed": true
   },
   "outputs": [],
   "source": []
  }
 ],
 "metadata": {
  "kernelspec": {
   "display_name": "Python 2",
   "language": "python",
   "name": "python2"
  },
  "language_info": {
   "codemirror_mode": {
    "name": "ipython",
    "version": 2
   },
   "file_extension": ".py",
   "mimetype": "text/x-python",
   "name": "python",
   "nbconvert_exporter": "python",
   "pygments_lexer": "ipython2",
   "version": "2.7.10"
  }
 },
 "nbformat": 4,
 "nbformat_minor": 0
}
