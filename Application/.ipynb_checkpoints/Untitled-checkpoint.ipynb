{
 "cells": [
  {
   "cell_type": "code",
   "execution_count": 139,
   "metadata": {
    "collapsed": false
   },
   "outputs": [
    {
     "name": "stdout",
     "output_type": "stream",
     "text": [
      "[u'NUM']\n"
     ]
    }
   ],
   "source": [
    "import os,sys\n",
    "\n",
    "from sklearn.naive_bayes import GaussianNB\n",
    "from sklearn.naive_bayes import MultinomialNB\n",
    "from sklearn.feature_extraction.text import TfidfTransformer\n",
    "from sklearn.feature_extraction.text import CountVectorizer\n",
    "import numpy as np\n",
    "\n",
    "\n",
    "\n",
    "count_vectorizer = CountVectorizer()\n",
    "\n",
    "\n",
    "\n",
    "data = open(\"train_5500.label\").read().decode('iso-8859-9').encode('utf-8',',ignore')\n",
    "\n",
    "data_fixed =  str(data)\n",
    "\n",
    "senteces_data = data_fixed.split(\"\\n\")\n",
    "\n",
    "sentences_data_fixed = map(lambda x:str(x),senteces_data)\n",
    "\n",
    "sentences = map(lambda x:x[x.index(\" \"):][1:],sentences_data_fixed[0:len(sentences_data_fixed)-10])\n",
    "\n",
    "\n",
    "meaning = map(lambda x:x[x.index(\":\"):x.index(\" \")][1:],sentences_data[0:len(sentences_data)-10])\n",
    "\n",
    "\n",
    "result_vector = map(lambda x:x[:x.index(\":\")],sentences_data[0:len(sentences_data)-10])\n",
    "\n",
    "\n",
    "counts = count_vectorizer.fit_transform(sentences)\n",
    "\n",
    "\n",
    "classifier = MultinomialNB()\n",
    "target = result_vector\n",
    "\n",
    "classifier.fit(counts,target)\n",
    "\n",
    "test_sentence = [\"When was gozde born?\"]\n",
    "\n",
    "vectorized_test = count_vectorizer.transform(test_sentence)\n",
    "\n",
    "print classifier.predict(vectorized_test)\n"
   ]
  },
  {
   "cell_type": "code",
   "execution_count": 127,
   "metadata": {
    "collapsed": false
   },
   "outputs": [
    {
     "name": "stdout",
     "output_type": "stream",
     "text": [
      "[u'ENTY' u'ENTY' u'ENTY' u'ENTY' u'ENTY' u'ENTY' u'ENTY' u'ENTY' u'ENTY'\n",
      " u'ENTY' u'ENTY' u'ENTY' u'ENTY' u'ENTY' u'ENTY' u'ENTY' u'ENTY' u'ENTY'\n",
      " u'ENTY' u'ENTY']\n"
     ]
    }
   ],
   "source": []
  },
  {
   "cell_type": "code",
   "execution_count": null,
   "metadata": {
    "collapsed": true
   },
   "outputs": [],
   "source": []
  }
 ],
 "metadata": {
  "kernelspec": {
   "display_name": "Python 2",
   "language": "python",
   "name": "python2"
  },
  "language_info": {
   "codemirror_mode": {
    "name": "ipython",
    "version": 2
   },
   "file_extension": ".py",
   "mimetype": "text/x-python",
   "name": "python",
   "nbconvert_exporter": "python",
   "pygments_lexer": "ipython2",
   "version": "2.7.10"
  }
 },
 "nbformat": 4,
 "nbformat_minor": 0
}
