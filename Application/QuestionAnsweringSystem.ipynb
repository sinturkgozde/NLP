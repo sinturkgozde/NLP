{
 "cells": [
  {
   "cell_type": "code",
   "execution_count": 266,
   "metadata": {
    "collapsed": false
   },
   "outputs": [
    {
     "name": "stdout",
     "output_type": "stream",
     "text": [
      " df=yes 1953 6 15\n"
     ]
    }
   ],
   "source": [
    "import nltk\n",
    "\n",
    "import os,sys\n",
    "from nltk.corpus import gutenberg\n",
    "import urllib2\n",
    "import re\n",
    "\n",
    "from bs4 import BeautifulSoup\n",
    "\n",
    "\n",
    "def extract(lst):\n",
    "    if extractUnproperDateFromData(lst):\n",
    "        return extractUnproperDateFromData(lst)\n",
    "    elif  extractProperDateFromData(lst): \n",
    "        return  extractProperDateFromData(lst)\n",
    "    return \"Enter a person name\"\n",
    "\n",
    "def extractUnproperDateFromData(lst):\n",
    "    \n",
    " for i in range(0,len(lst[0])):\n",
    "        if lst[0][i] == \"date\" and lst[0][i+1] == \"of\" and lst[0][i+2] == \"birth\":\n",
    "            return lst[0][i+4]+\" \"+ lst[0][i+5]+ \" \" +lst[0][i+6]\n",
    " return False\n",
    "        \n",
    "def extractProperDateFromData(lst):    \n",
    " for i in range(0,len(lst[0])):\n",
    "    if \"age|\" in lst[0][i]:\n",
    "        return lst[0][i].replace(\"|\",\" \")[lst[0][i].index(\"|\"):]\n",
    " return False\n",
    "\n",
    "    \n",
    "def prepareDataForProccessing(NAME):\n",
    "    \n",
    "    data = urllib2.urlopen(\"https://en.wikipedia.org/w/api.php?action=query&prop=revisions&titles=\"+ NAME + \"&rvprop=content&redirects=true&format=json\").read().decode('utf8')\n",
    "    tokenized_data = nltk.word_tokenize(str(data).lower())\n",
    "    converted_data = nltk.Text(tokenized_data)\n",
    "    mydata=  nltk.ConcordanceIndex(converted_data.tokens, key = lambda s: s.lower())\n",
    "    concordance_txt = ([converted_data.tokens[map(lambda x: x-5 if (x-10)>0 else 0,[offset])[0]:offset+10]\n",
    "                        for offset in mydata.offsets(\"birth\")])\n",
    "    return concordance_txt\n",
    "\n",
    "dataPrepared= prepareDataForProccessing(\"Xi_Jinping\")\n",
    "\n",
    "print extract(dataPrepared)\n",
    "\n",
    "\n"
   ]
  },
  {
   "cell_type": "code",
   "execution_count": 36,
   "metadata": {
    "collapsed": false
   },
   "outputs": [
    {
     "name": "stdout",
     "output_type": "stream",
     "text": [
      "IN: preposition or conjunction, subordinating\n",
      "    astride among uppon whether out inside pro despite on by throughout\n",
      "    below within for towards near behind atop around if like until below\n",
      "    next into if beside ...\n",
      "None\n"
     ]
    },
    {
     "data": {
      "text/plain": [
       "('was', 'Bill_Gates')"
      ]
     },
     "execution_count": 36,
     "metadata": {},
     "output_type": "execute_result"
    }
   ],
   "source": [
    "import nltk\n",
    "\n",
    "def extractVerb(possed_data):\n",
    "    for element in possed_data:\n",
    "        if element[1] == 'VBD' or element[1] == 'VBZ':\n",
    "            return element[0]\n",
    "\n",
    "def extractNoun(possed_data):\n",
    "    result =\"\"\n",
    "    for element in possed_data:\n",
    "        if element[1] == 'NNP':\n",
    "          result +=   element[0] + \"_\" \n",
    "    return result[0:len(result)-1]\n",
    "            \n",
    "\n",
    "question = \"Who is Bill Gates?\"\n",
    "\n",
    "question2 = \"When was Bill Gates born?\"\n",
    "\n",
    "\n",
    "def processQuestion(questionSentence): \n",
    "    tokenized_data = nltk.word_tokenize(questionSentence)\n",
    "    possed_data = nltk.pos_tag(tokenized_data)\n",
    "    return (extractVerb(possed_data),extractNoun(possed_data))\n",
    "\n",
    "\n",
    "\n",
    "print nltk.help.upenn_tagset('IN')\n",
    "\n",
    "\n",
    "processQuestion(question2)\n"
   ]
  },
  {
   "cell_type": "code",
   "execution_count": 164,
   "metadata": {
    "collapsed": false
   },
   "outputs": [
    {
     "name": "stdout",
     "output_type": "stream",
     "text": [
      " = 23 July 1882\n"
     ]
    }
   ],
   "source": []
  },
  {
   "cell_type": "code",
   "execution_count": null,
   "metadata": {
    "collapsed": true
   },
   "outputs": [],
   "source": []
  },
  {
   "cell_type": "code",
   "execution_count": null,
   "metadata": {
    "collapsed": true
   },
   "outputs": [],
   "source": []
  }
 ],
 "metadata": {
  "kernelspec": {
   "display_name": "Python 2",
   "language": "python",
   "name": "python2"
  },
  "language_info": {
   "codemirror_mode": {
    "name": "ipython",
    "version": 2
   },
   "file_extension": ".py",
   "mimetype": "text/x-python",
   "name": "python",
   "nbconvert_exporter": "python",
   "pygments_lexer": "ipython2",
   "version": "2.7.10"
  }
 },
 "nbformat": 4,
 "nbformat_minor": 0
}
